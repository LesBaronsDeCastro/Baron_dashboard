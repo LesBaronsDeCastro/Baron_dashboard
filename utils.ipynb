{
  "nbformat": 4,
  "nbformat_minor": 0,
  "metadata": {
    "colab": {
      "name": "utils",
      "provenance": [],
      "include_colab_link": true
    },
    "kernelspec": {
      "name": "python3",
      "display_name": "Python 3"
    },
    "language_info": {
      "name": "python"
    },
    "accelerator": "GPU"
  },
  "cells": [
    {
      "cell_type": "markdown",
      "metadata": {
        "id": "view-in-github",
        "colab_type": "text"
      },
      "source": [
        "<a href=\"https://colab.research.google.com/github/LesBaronsDeCastro/Baron_dashboard/blob/main/utils.ipynb\" target=\"_parent\"><img src=\"https://colab.research.google.com/assets/colab-badge.svg\" alt=\"Open In Colab\"/></a>"
      ]
    },
    {
      "cell_type": "markdown",
      "metadata": {
        "id": "sib52jKg8svq"
      },
      "source": [
        "Connecting the Python code to Google drive\n"
      ]
    },
    {
      "cell_type": "code",
      "metadata": {
        "id": "oPMr-nsX6AWy",
        "colab": {
          "base_uri": "https://localhost:8080/"
        },
        "outputId": "089c30a9-999a-468a-8043-bcb352508f31"
      },
      "source": [
        "from google.colab import drive \n",
        "drive.mount('/content/gdrive')"
      ],
      "execution_count": null,
      "outputs": [
        {
          "output_type": "stream",
          "name": "stdout",
          "text": [
            "Drive already mounted at /content/gdrive; to attempt to forcibly remount, call drive.mount(\"/content/gdrive\", force_remount=True).\n"
          ]
        }
      ]
    },
    {
      "cell_type": "code",
      "metadata": {
        "id": "kmaBs7iV6CTw"
      },
      "source": [
        "import pandas as pd\n",
        "import numpy as np\n",
        "from google.colab import auth\n",
        "auth.authenticate_user()\n",
        "import gspread\n",
        "from oauth2client.client import GoogleCredentials\n",
        "gc = gspread.authorize(GoogleCredentials.get_application_default())"
      ],
      "execution_count": null,
      "outputs": []
    },
    {
      "cell_type": "code",
      "metadata": {
        "colab": {
          "base_uri": "https://localhost:8080/"
        },
        "id": "TM2hxcxt92EV",
        "outputId": "b076adc3-d457-4495-b241-5cef436f3904"
      },
      "source": [
        "wb = gc.open_by_url('https://docs.google.com/spreadsheets/d/1-Qi2YvlbvAxHF9RjWFc1f0_DdazhtRTlGsE6eoofxsA/edit#gid=0')\n",
        "sheet = wb.worksheet('test1')\n",
        "data = sheet.get_all_values()\n",
        "df = pd.DataFrame(data)\n",
        "print(df)"
      ],
      "execution_count": null,
      "outputs": [
        {
          "output_type": "stream",
          "name": "stdout",
          "text": [
            "         0\n",
            "0   Random\n",
            "1       10\n",
            "2       20\n",
            "3       30\n",
            "4       40\n",
            "5       50\n",
            "6       60\n",
            "7       70\n",
            "8       80\n",
            "9       90\n",
            "10     100\n",
            "11     110\n",
            "12     120\n",
            "13     130\n",
            "14     140\n"
          ]
        }
      ]
    }
  ]
}